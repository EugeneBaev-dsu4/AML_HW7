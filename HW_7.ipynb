{
 "cells": [
  {
   "cell_type": "code",
   "execution_count": 1,
   "metadata": {},
   "outputs": [],
   "source": [
    "import matplotlib.pyplot as plt\n",
    "import pandas as pd\n",
    "import numpy as np\n",
    "from sklearn.metrics import auc, roc_curve, roc_auc_score\n",
    "from sklearn.ensemble import RandomForestClassifier\n",
    "from sklearn.ensemble import RandomForestRegressor\n",
    "from sklearn.model_selection import train_test_split, cross_val_score"
   ]
  },
  {
   "cell_type": "code",
   "execution_count": 2,
   "metadata": {},
   "outputs": [
    {
     "name": "stdout",
     "output_type": "stream",
     "text": [
      "<class 'pandas.core.frame.DataFrame'>\n",
      "RangeIndex: 1460 entries, 0 to 1459\n",
      "Data columns (total 81 columns):\n",
      " #   Column         Non-Null Count  Dtype  \n",
      "---  ------         --------------  -----  \n",
      " 0   Id             1460 non-null   int64  \n",
      " 1   MSSubClass     1460 non-null   int64  \n",
      " 2   MSZoning       1460 non-null   object \n",
      " 3   LotFrontage    1201 non-null   float64\n",
      " 4   LotArea        1460 non-null   int64  \n",
      " 5   Street         1460 non-null   object \n",
      " 6   Alley          91 non-null     object \n",
      " 7   LotShape       1460 non-null   object \n",
      " 8   LandContour    1460 non-null   object \n",
      " 9   Utilities      1460 non-null   object \n",
      " 10  LotConfig      1460 non-null   object \n",
      " 11  LandSlope      1460 non-null   object \n",
      " 12  Neighborhood   1460 non-null   object \n",
      " 13  Condition1     1460 non-null   object \n",
      " 14  Condition2     1460 non-null   object \n",
      " 15  BldgType       1460 non-null   object \n",
      " 16  HouseStyle     1460 non-null   object \n",
      " 17  OverallQual    1460 non-null   int64  \n",
      " 18  OverallCond    1460 non-null   int64  \n",
      " 19  YearBuilt      1460 non-null   int64  \n",
      " 20  YearRemodAdd   1460 non-null   int64  \n",
      " 21  RoofStyle      1460 non-null   object \n",
      " 22  RoofMatl       1460 non-null   object \n",
      " 23  Exterior1st    1460 non-null   object \n",
      " 24  Exterior2nd    1460 non-null   object \n",
      " 25  MasVnrType     1452 non-null   object \n",
      " 26  MasVnrArea     1452 non-null   float64\n",
      " 27  ExterQual      1460 non-null   object \n",
      " 28  ExterCond      1460 non-null   object \n",
      " 29  Foundation     1460 non-null   object \n",
      " 30  BsmtQual       1423 non-null   object \n",
      " 31  BsmtCond       1423 non-null   object \n",
      " 32  BsmtExposure   1422 non-null   object \n",
      " 33  BsmtFinType1   1423 non-null   object \n",
      " 34  BsmtFinSF1     1460 non-null   int64  \n",
      " 35  BsmtFinType2   1422 non-null   object \n",
      " 36  BsmtFinSF2     1460 non-null   int64  \n",
      " 37  BsmtUnfSF      1460 non-null   int64  \n",
      " 38  TotalBsmtSF    1460 non-null   int64  \n",
      " 39  Heating        1460 non-null   object \n",
      " 40  HeatingQC      1460 non-null   object \n",
      " 41  CentralAir     1460 non-null   object \n",
      " 42  Electrical     1459 non-null   object \n",
      " 43  1stFlrSF       1460 non-null   int64  \n",
      " 44  2ndFlrSF       1460 non-null   int64  \n",
      " 45  LowQualFinSF   1460 non-null   int64  \n",
      " 46  GrLivArea      1460 non-null   int64  \n",
      " 47  BsmtFullBath   1460 non-null   int64  \n",
      " 48  BsmtHalfBath   1460 non-null   int64  \n",
      " 49  FullBath       1460 non-null   int64  \n",
      " 50  HalfBath       1460 non-null   int64  \n",
      " 51  BedroomAbvGr   1460 non-null   int64  \n",
      " 52  KitchenAbvGr   1460 non-null   int64  \n",
      " 53  KitchenQual    1460 non-null   object \n",
      " 54  TotRmsAbvGrd   1460 non-null   int64  \n",
      " 55  Functional     1460 non-null   object \n",
      " 56  Fireplaces     1460 non-null   int64  \n",
      " 57  FireplaceQu    770 non-null    object \n",
      " 58  GarageType     1379 non-null   object \n",
      " 59  GarageYrBlt    1379 non-null   float64\n",
      " 60  GarageFinish   1379 non-null   object \n",
      " 61  GarageCars     1460 non-null   int64  \n",
      " 62  GarageArea     1460 non-null   int64  \n",
      " 63  GarageQual     1379 non-null   object \n",
      " 64  GarageCond     1379 non-null   object \n",
      " 65  PavedDrive     1460 non-null   object \n",
      " 66  WoodDeckSF     1460 non-null   int64  \n",
      " 67  OpenPorchSF    1460 non-null   int64  \n",
      " 68  EnclosedPorch  1460 non-null   int64  \n",
      " 69  3SsnPorch      1460 non-null   int64  \n",
      " 70  ScreenPorch    1460 non-null   int64  \n",
      " 71  PoolArea       1460 non-null   int64  \n",
      " 72  PoolQC         7 non-null      object \n",
      " 73  Fence          281 non-null    object \n",
      " 74  MiscFeature    54 non-null     object \n",
      " 75  MiscVal        1460 non-null   int64  \n",
      " 76  MoSold         1460 non-null   int64  \n",
      " 77  YrSold         1460 non-null   int64  \n",
      " 78  SaleType       1460 non-null   object \n",
      " 79  SaleCondition  1460 non-null   object \n",
      " 80  SalePrice      1460 non-null   int64  \n",
      "dtypes: float64(3), int64(35), object(43)\n",
      "memory usage: 924.0+ KB\n"
     ]
    }
   ],
   "source": [
    "df = pd.read_csv('train.csv')\n",
    "df.info()"
   ]
  },
  {
   "cell_type": "code",
   "execution_count": 3,
   "metadata": {},
   "outputs": [],
   "source": [
    "#Находим категориальные признаки\n",
    "cat_feats = list(df.dtypes[df.dtypes == object].index)"
   ]
  },
  {
   "cell_type": "code",
   "execution_count": 4,
   "metadata": {},
   "outputs": [],
   "source": [
    "#выберем непрерывные признаки\n",
    "num_feats = [f for f in df if f not in (cat_feats + ['ID', 'SalePrice'])]"
   ]
  },
  {
   "cell_type": "code",
   "execution_count": 5,
   "metadata": {},
   "outputs": [],
   "source": [
    "# заполним пропущенные значений строкой, факт пропущенного значения тоже может нести в себе информацию\n",
    "df[cat_feats] = df[cat_feats].fillna('nan')"
   ]
  },
  {
   "cell_type": "code",
   "execution_count": 6,
   "metadata": {},
   "outputs": [],
   "source": [
    "# Заменяем пропуски на медиану\n",
    "df_median = df[num_feats].median()"
   ]
  },
  {
   "cell_type": "code",
   "execution_count": 7,
   "metadata": {},
   "outputs": [],
   "source": [
    "# Создаем дамми-переменные для категорий\n",
    "dummy_feats = pd.get_dummies(df[cat_feats], columns=cat_feats)"
   ]
  },
  {
   "cell_type": "code",
   "execution_count": 8,
   "metadata": {},
   "outputs": [],
   "source": [
    "X = pd.concat([df[num_feats].fillna(df_median),\n",
    "                     df[num_feats + cat_feats].isnull().astype(np.int8).add_suffix('_NaN'), dummy_feats], axis=1)"
   ]
  },
  {
   "cell_type": "code",
   "execution_count": 9,
   "metadata": {},
   "outputs": [],
   "source": [
    "y = df['SalePrice']"
   ]
  },
  {
   "cell_type": "code",
   "execution_count": 10,
   "metadata": {},
   "outputs": [],
   "source": [
    "X_train, X_test, y_train, y_test = train_test_split(X, y, test_size=0.3, random_state=0)"
   ]
  },
  {
   "cell_type": "code",
   "execution_count": 11,
   "metadata": {},
   "outputs": [
    {
     "data": {
      "text/plain": [
       "RandomForestRegressor(bootstrap=True, ccp_alpha=0.0, criterion='mse',\n",
       "                      max_depth=20, max_features=0.8, max_leaf_nodes=None,\n",
       "                      max_samples=None, min_impurity_decrease=0.0,\n",
       "                      min_impurity_split=None, min_samples_leaf=20,\n",
       "                      min_samples_split=2, min_weight_fraction_leaf=0.0,\n",
       "                      n_estimators=100, n_jobs=-1, oob_score=False,\n",
       "                      random_state=0, verbose=0, warm_start=False)"
      ]
     },
     "execution_count": 11,
     "metadata": {},
     "output_type": "execute_result"
    }
   ],
   "source": [
    "# построим случайный лес\n",
    "model_rf = RandomForestRegressor(n_estimators=100, max_depth=20, min_samples_leaf=20, max_features=0.8, n_jobs=-1, bootstrap=True, random_state=0)\n",
    "model_rf.fit(X_train, y_train)"
   ]
  },
  {
   "cell_type": "code",
   "execution_count": 34,
   "metadata": {},
   "outputs": [
    {
     "name": "stdout",
     "output_type": "stream",
     "text": [
      "MSE = 1850382085.1993186\n"
     ]
    }
   ],
   "source": [
    "# посмотрим на результат\n",
    "print(f\"MSE = {np.mean(-cross_val_score(model_rf,X_test,y_test,cv=10,scoring='neg_mean_squared_error'))}\")"
   ]
  },
  {
   "cell_type": "code",
   "execution_count": 13,
   "metadata": {},
   "outputs": [
    {
     "data": {
      "image/png": "[encoded data removed]",
      "text/plain": [
       "<Figure size 432x288 with 1 Axes>"
      ]
     },
     "metadata": {
      "needs_background": "light"
     },
     "output_type": "display_data"
    }
   ],
   "source": [
    "# Важность признаков\n",
    "features = X_train.columns\n",
    "imp = model_rf.feature_importances_[0:20]\n",
    "\n",
    "indices = np.argsort(imp)\n",
    "\n",
    "plt.title('Feature Importances')\n",
    "plt.barh(range(len(indices)), imp[indices], color='b', align='center')\n",
    "plt.yticks(range(len(indices)), [features[i] for i in indices])\n",
    "plt.xlabel('Relative Importance')\n",
    "plt.show()"
   ]
  },
  {
   "cell_type": "markdown",
   "metadata": {},
   "source": [
    "# Обучить стекинг как минимум 3х моделей, использовать хотя бы 1 линейную модель и 1 нелинейную"
   ]
  },
  {
   "cell_type": "code",
   "execution_count": 14,
   "metadata": {},
   "outputs": [
    {
     "name": "stdout",
     "output_type": "stream",
     "text": [
      "     train-rmse-mean  train-rmse-std  test-rmse-mean  test-rmse-std\n",
      "0      178438.625000      284.025039   178459.958333     382.353082\n",
      "1      162012.333333      223.262399   162207.364583      73.066575\n",
      "2      147265.187500      185.454409   147510.791667     325.210696\n",
      "3      134048.552083      132.245488   134392.755208     515.931987\n",
      "4      122219.286459      110.490482   122630.190105     839.788150\n",
      "..               ...             ...             ...            ...\n",
      "495      8979.632487      248.977566    27663.175130    4816.720168\n",
      "496      8971.712891      250.469605    27660.999349    4817.258353\n",
      "497      8964.070638      244.668931    27664.521484    4813.388758\n",
      "498      8950.655274      244.405049    27668.936198    4815.486368\n",
      "499      8937.524089      242.474607    27671.089193    4810.547571\n",
      "\n",
      "[500 rows x 4 columns]\n"
     ]
    },
    {
     "data": {
      "text/plain": [
       "XGBRegressor(base_score=0.5, booster='gbtree', colsample_bylevel=1,\n",
       "             colsample_bynode=1, colsample_bytree=1, enable_categorical=False,\n",
       "             gamma=0, gpu_id=-1, importance_type=None,\n",
       "             interaction_constraints='', learning_rate=0.1, max_delta_step=0,\n",
       "             max_depth=2, min_child_weight=1, missing=nan,\n",
       "             monotone_constraints='()', n_estimators=360, n_jobs=4,\n",
       "             num_parallel_tree=1, objective='reg:squarederror',\n",
       "             predictor='auto', random_state=0, reg_alpha=0, reg_lambda=1,\n",
       "             scale_pos_weight=1, subsample=1, tree_method='exact',\n",
       "             validate_parameters=1, verbosity=None)"
      ]
     },
     "execution_count": 14,
     "metadata": {},
     "output_type": "execute_result"
    }
   ],
   "source": [
    "# Обучим XGBoost\n",
    "import xgboost as xgb\n",
    "dtrain = xgb.DMatrix(X_train, label = y_train)\n",
    "dtest = xgb.DMatrix(X_test)\n",
    "\n",
    "params = {\"max_depth\":2, \"eta\":0.1}\n",
    "model = xgb.cv(params, dtrain,  num_boost_round=500, early_stopping_rounds=100)\n",
    "print(model)\n",
    "model_xgb = xgb.XGBRegressor(n_estimators=360, max_depth=2, learning_rate=0.1) #the params were tuned using xgb.cv\n",
    "model_xgb.fit(X_train, y_train)"
   ]
  },
  {
   "cell_type": "code",
   "execution_count": 35,
   "metadata": {},
   "outputs": [
    {
     "name": "stdout",
     "output_type": "stream",
     "text": [
      "MSE = 1635120698.508711\n"
     ]
    }
   ],
   "source": [
    "print(f\"MSE = {np.mean(-cross_val_score(model_xgb,X_test,y_test,cv=10,scoring='neg_mean_squared_error'))}\")"
   ]
  },
  {
   "cell_type": "code",
   "execution_count": 16,
   "metadata": {},
   "outputs": [],
   "source": [
    "# Обучим линейную регрессию\n",
    "from sklearn.preprocessing import StandardScaler"
   ]
  },
  {
   "cell_type": "code",
   "execution_count": 17,
   "metadata": {},
   "outputs": [],
   "source": [
    "X_train_lin = X_train.copy()\n",
    "X_test_lin = X_test.copy()"
   ]
  },
  {
   "cell_type": "code",
   "execution_count": 18,
   "metadata": {},
   "outputs": [
    {
     "data": {
      "text/plain": [
       "StandardScaler(copy=True, with_mean=True, with_std=True)"
      ]
     },
     "execution_count": 18,
     "metadata": {},
     "output_type": "execute_result"
    }
   ],
   "source": [
    "scaler = StandardScaler()\n",
    "scaler.fit(X_train_lin[num_feats])"
   ]
  },
  {
   "cell_type": "code",
   "execution_count": 19,
   "metadata": {},
   "outputs": [],
   "source": [
    "X_train_lin[num_feats] = scaler.transform(X_train_lin[num_feats])\n",
    "X_test_lin[num_feats] = scaler.transform(X_test_lin[num_feats])"
   ]
  },
  {
   "cell_type": "code",
   "execution_count": 20,
   "metadata": {},
   "outputs": [
    {
     "data": {
      "text/plain": [
       "LinearRegression(copy_X=True, fit_intercept=True, n_jobs=None, normalize=False)"
      ]
     },
     "execution_count": 20,
     "metadata": {},
     "output_type": "execute_result"
    }
   ],
   "source": [
    "from sklearn.linear_model import LinearRegression\n",
    "model_lr = LinearRegression()\n",
    "model_lr.fit(X_train_lin, y_train)"
   ]
  },
  {
   "cell_type": "code",
   "execution_count": 36,
   "metadata": {},
   "outputs": [
    {
     "name": "stdout",
     "output_type": "stream",
     "text": [
      "MSE = 3418258164.2647905\n"
     ]
    }
   ],
   "source": [
    "print(f\"MSE = {np.mean(-cross_val_score(model_lr,X_test,y_test,cv=10,scoring='neg_mean_squared_error'))}\")"
   ]
  },
  {
   "cell_type": "markdown",
   "metadata": {},
   "source": [
    "# Стекинг"
   ]
  },
  {
   "cell_type": "code",
   "execution_count": 23,
   "metadata": {},
   "outputs": [],
   "source": [
    "# Смешаем дерево, линейную регрессию и XGBoost"
   ]
  },
  {
   "cell_type": "code",
   "execution_count": 24,
   "metadata": {},
   "outputs": [
    {
     "data": {
      "text/plain": [
       "pandas.core.series.Series"
      ]
     },
     "execution_count": 24,
     "metadata": {},
     "output_type": "execute_result"
    }
   ],
   "source": [
    "type(y_test)"
   ]
  },
  {
   "cell_type": "code",
   "execution_count": 25,
   "metadata": {},
   "outputs": [],
   "source": [
    "def get_meta_features(clf, X_train, y_train, X_test, stack_cv):\n",
    "    meta_train = np.zeros_like(y_train, dtype=float)\n",
    "    meta_test = np.zeros_like(y_test, dtype=float)\n",
    "    \n",
    "    for i, (train_ind, test_ind) in enumerate(stack_cv.split(X_train, y_train)):\n",
    "        \n",
    "        clf.fit(X_train.iloc[train_ind], y_train.iloc[train_ind])\n",
    "        meta_train[test_ind] = clf.predict(X_train.iloc[test_ind])\n",
    "        meta_test += clf.predict(X_test)\n",
    "    \n",
    "    return meta_train, meta_test / stack_cv.n_splits"
   ]
  },
  {
   "cell_type": "code",
   "execution_count": 37,
   "metadata": {},
   "outputs": [
    {
     "name": "stderr",
     "output_type": "stream",
     "text": [
      "C:\\Users\\BEU_RU1\\Anaconda3\\lib\\site-packages\\sklearn\\model_selection\\_split.py:296: FutureWarning: Setting a random_state has no effect since shuffle is False. This will raise an error in 0.24. You should leave random_state to its default (None), or set shuffle=True.\n",
      "  FutureWarning\n"
     ]
    },
    {
     "name": "stdout",
     "output_type": "stream",
     "text": [
      "LR features...\n",
      "RF features...\n",
      "XGB features...\n"
     ]
    }
   ],
   "source": [
    "from sklearn.model_selection import KFold\n",
    "\n",
    "stack_cv = KFold(n_splits=10, random_state=0)\n",
    "\n",
    "meta_train = []\n",
    "meta_test = []\n",
    "col_names = []\n",
    "\n",
    "print('LR features...')\n",
    "meta_tr, meta_te = get_meta_features(model_lr, X_train_lin, y_train, X_test_lin, stack_cv)\n",
    "\n",
    "meta_train.append(meta_tr)\n",
    "meta_test.append(meta_te)\n",
    "col_names.append('lr_pred')\n",
    "\n",
    "print('RF features...')\n",
    "meta_tr, meta_te = get_meta_features(model_rf, X_train, y_train, X_test, stack_cv)\n",
    "\n",
    "meta_train.append(meta_tr)\n",
    "meta_test.append(meta_te)\n",
    "col_names.append('rf_pred')\n",
    "\n",
    "print('XGB features...')\n",
    "meta_tr, meta_te = get_meta_features(model_xgb, X_train, y_train, X_test, stack_cv)\n",
    "\n",
    "meta_train.append(meta_tr)\n",
    "meta_test.append(meta_te)\n",
    "col_names.append('xgb_pred')"
   ]
  },
  {
   "cell_type": "code",
   "execution_count": 38,
   "metadata": {},
   "outputs": [],
   "source": [
    "# Стэкинг мета-признаков с помощью LR\n",
    "X_meta_train = pd.DataFrame(np.stack(meta_train, axis=1), columns=col_names)\n",
    "X_meta_test = pd.DataFrame(np.stack(meta_test, axis=1), columns=col_names)"
   ]
  },
  {
   "cell_type": "code",
   "execution_count": 39,
   "metadata": {},
   "outputs": [
    {
     "data": {
      "text/plain": [
       "LinearRegression(copy_X=True, fit_intercept=True, n_jobs=-1, normalize=False)"
      ]
     },
     "execution_count": 39,
     "metadata": {},
     "output_type": "execute_result"
    }
   ],
   "source": [
    "model_lr_meta = LinearRegression(n_jobs=-1)\n",
    "model_lr_meta.fit(X_meta_train, y_train)"
   ]
  },
  {
   "cell_type": "code",
   "execution_count": 40,
   "metadata": {},
   "outputs": [
    {
     "name": "stdout",
     "output_type": "stream",
     "text": [
      "MSE = 8.302330314290839e-21\n"
     ]
    }
   ],
   "source": [
    "y_pred_meta_test = model_lr_meta.predict(X_meta_test)\n",
    "print(f\"MSE = {np.mean(-cross_val_score(model_lr,X_meta_test,y_pred_meta_test,cv=10,scoring='neg_mean_squared_error'))}\")"
   ]
  },
  {
   "cell_type": "markdown",
   "metadata": {},
   "source": [
    "В результате, использование ансамблей моделей действительно улучшает качество."
   ]
  },
  {
   "cell_type": "code",
   "execution_count": 41,
   "metadata": {},
   "outputs": [
    {
     "data": {
      "text/plain": [
       "array([234511.67298419, 150770.67706376, 110058.08345084, 221286.10885491,\n",
       "        88329.03827454,  87915.54899287, 268308.3154149 , 122704.3416469 ,\n",
       "       397735.57542169, 161271.69375317, 199005.66353753, 140791.53792878,\n",
       "       229942.66890853, 129896.80884604, 121442.02964974, 145784.72268957,\n",
       "       228172.98536803, 124531.7609187 , 134012.11669124, 190042.76357625,\n",
       "       120856.85270676, 151188.55241709, 106307.25325472, 160220.68414966,\n",
       "       184470.47177   , 198960.33980054, 165861.80131631,  81226.88733555,\n",
       "       338466.30898062, 111468.34003279, 138153.31150668, 199854.72420441,\n",
       "       151619.52963583, 300787.34581106, 368106.2042123 , 195741.83787834,\n",
       "       290178.1140114 , 116808.67328895, 230146.9103342 , 318694.12102841,\n",
       "       206629.41451078, 118483.11395825, 190857.48337299, 307573.58084666,\n",
       "       348280.79900724, 129307.4144773 , 124534.09674163, 126368.09844964,\n",
       "       169475.11650492,  96766.0579933 , 404931.41351324, 144784.36658365,\n",
       "       158141.28607948,  92769.23182313, 240360.05487491, 113059.25229457,\n",
       "       128104.52418883, 244150.90788304, 133527.52300273,  92121.52220566,\n",
       "       142477.62351029, 125802.80947991, 136232.71250137, 165784.90005574,\n",
       "       206433.50466916, 162777.22822222, 139108.35208497, 228219.10671758,\n",
       "       132465.16925709, 196277.90601341, 186673.65407221, 121044.88182935,\n",
       "        71532.42518814, 234928.00279998,  85791.38465841, 260452.75116549,\n",
       "       126640.15226669,  92082.02902848, 274669.03416787, 154480.33067926,\n",
       "       125769.31748111, 130924.54031576, 131440.92746084, 139278.88612821,\n",
       "       222107.60551673, 192506.46601866, 107927.45064741, 187751.70899322,\n",
       "       168100.42023788, 136988.97324213, 183086.43650235, 188087.19969649,\n",
       "       187695.5561632 , 219121.25676643, 200746.6510742 , 144969.13617064,\n",
       "       203736.82083848, 171393.05707897, 118254.479602  , 146274.47216506,\n",
       "       242758.78582087, 207347.88879902, 118999.1575289 , 155673.47861074,\n",
       "       110037.06435692, 279890.99113566, 148810.98637215,  89914.78827827,\n",
       "       166851.65697202, 116660.97485235, 107893.46279439, 120687.38814077,\n",
       "       198849.15725981, 124470.23702884, 169729.13343967, 154111.1665914 ,\n",
       "       448661.4428372 , 123130.3091052 , 195694.05989101, 274548.00733628,\n",
       "       169455.94836487, 159390.49484696, 126823.61498075, 200443.69542526,\n",
       "       227093.16141038, 238439.93169609, 404113.59782718, 204403.28432248,\n",
       "       193779.77852078, 166283.53395518, 219555.08326933, 194616.77299315,\n",
       "       153267.2079821 , 180161.87025699,  99426.15318209, 214085.96479297,\n",
       "       144111.67280496, 182898.55743647, 109397.35384758, 170057.39900491,\n",
       "       176611.36029055, 128142.39112171, 213368.54474626, 139885.73017147,\n",
       "       143823.01989322, 182315.24404606, 231107.34065935, 142691.55631177,\n",
       "       289843.24306428, 245617.92775997, 162579.71492487, 375607.25778848,\n",
       "       279285.29643738, 177483.39069431, 193437.59325866, 272349.73372314,\n",
       "       128911.40491884, 207215.15020327, 125905.05611298, 168044.34464768,\n",
       "       122405.48320386, 140383.95884488, 188986.74538825, 119063.30433082,\n",
       "       245888.55301937, 118789.65992563, 156707.53289538, 279896.23979727,\n",
       "       197664.71862549, 165477.88124461, 173545.52264558, 160041.97202155,\n",
       "       172905.71286981, 164823.85263972, 119576.86481241, 115821.52912903,\n",
       "       131595.49227005, 234457.83082826, 111205.20845031, 142503.53233615,\n",
       "       297631.91053552, 201783.67157084, 102605.03753198, 305770.92479928,\n",
       "       118135.37034992, 171596.03983728,  97096.12997067, 195498.44188984,\n",
       "       200795.91527483, 142671.75882868, 139528.52461277, 151886.8691542 ,\n",
       "       201037.03861049, 139023.77016931, 121856.19926481, 141067.13056453,\n",
       "        84275.5154912 , 132534.68965082, 168626.70876609, 112672.36210108,\n",
       "       117384.32680278, 210969.7442202 , 117073.10659526, 111574.76251513,\n",
       "       145478.62536328, 194956.61116363, 147857.38210676, 339639.59919278,\n",
       "       286921.48410118,  64110.5811618 , 146949.61517218, 258228.61110086,\n",
       "        85117.04907119,  98422.6165371 , 393791.9591918 , 194155.27753898,\n",
       "       189611.1805959 , 268150.32897363, 255070.91917529,  88896.06158173,\n",
       "       206630.78929531, 147395.2759318 , 133655.04339523, 122040.4604308 ,\n",
       "       194768.13982649, 263056.15974531, 257965.54209463, 212959.56307963,\n",
       "       135907.33943481, 162198.22585519,  81099.66329251, 150275.2364928 ,\n",
       "       110073.27098712, 139101.92852051, 225366.42115595, 126173.69090864,\n",
       "       125517.63420837, 116326.50387113,  80765.03683279, 191079.96529893,\n",
       "       109283.32843881, 180795.09777958, 204345.85475905, 204869.71220889,\n",
       "       169020.36895398, 188296.15634539, 211216.07114484, 190796.9176319 ,\n",
       "       141670.67195953, 199422.86940383, 185858.30895001, 282056.93258837,\n",
       "        89777.48294526, 426196.85011893, 248361.88920482, 226901.51435892,\n",
       "       100385.30881079, 211654.61280219, 422552.66314163, 335140.62019603,\n",
       "       205913.10508824, 121998.4479379 , 130964.07078662,  99614.11161173,\n",
       "       427792.58072989, 344979.66065132, 379333.95776433,  62900.45201008,\n",
       "       230352.15714805, 264420.16397538, 123433.68604081, 242809.40295987,\n",
       "       134557.09680788, 186164.93811987, 143117.78918309, 227994.68661445,\n",
       "       227248.00084465, 202002.98375838, 218895.64370532, 100469.40765403,\n",
       "       134570.85574805, 392327.40099888, 168123.59750874, 138450.46326911,\n",
       "       195773.00769319, 166502.17782875, 111625.80789346, 301088.61841634,\n",
       "       445059.80588174, 164810.90715614,  87760.79427644,  87260.07172959,\n",
       "       323676.94068598,  91356.68232612, 155811.92923682, 296206.12672938,\n",
       "       239364.95419132, 188905.99311397, 141158.22221377, 165155.62060505,\n",
       "       102266.52688599, 130597.9081312 , 186106.73134876, 167025.54659981,\n",
       "       165713.70304863, 147751.71229336, 144609.36377275, 194657.46884262,\n",
       "       180921.07963876, 180624.91932236, 108691.64272618, 166990.43280971,\n",
       "       136385.36149909, 112544.82405397, 117910.20491714, 144869.93443256,\n",
       "       305234.25082191, 122974.06154121, 181751.68238098, 164202.87706388,\n",
       "       111789.00088346, 267636.77484467, 111524.10482717, 242040.30555643,\n",
       "       150463.75693481, 238102.25789196, 123657.65073863, 362779.21270635,\n",
       "       210167.89194336, 145158.9576596 , 113267.66364698, 233202.76254197,\n",
       "       173599.36688873, 192732.31217041, 160462.26256257, 159972.65472899,\n",
       "       135336.91124083, 202930.26605402, 143199.19062655, 122836.55461652,\n",
       "       342581.75154217, 162235.16995307, 153771.38872394, 215890.99201809,\n",
       "       167519.10350418, 136665.33665777, 118741.87509331,  95804.18086608,\n",
       "        99002.1108261 , 137874.33703497, 209780.34889581, 350522.76803562,\n",
       "       114344.88172237, 104089.06201446, 158924.94546496, 433187.01795271,\n",
       "       310911.85098725, 151040.31975276, 288145.33552626, 245382.40019684,\n",
       "       337863.99863861, 198153.03163347, 233572.38223839, 249318.80221798,\n",
       "        98887.58439049, 109474.37477389, 170317.25611629, 132819.77207924,\n",
       "       176565.36071111, 178863.19405927, 431267.63423154,  85550.76117313,\n",
       "       136982.54265241, 124013.28779875, 150348.10706038,  58975.22086516,\n",
       "       202444.5893402 , 300493.44489657, 115407.0102408 , 253389.62585023,\n",
       "       167537.0167656 , 101509.29819527, 133516.49304601, 122585.44584178,\n",
       "       125417.46869149,  87804.01914501, 142787.62052105, 188998.95066451,\n",
       "       228319.10561581, 392625.27827132, 101422.73485273, 114157.71026155,\n",
       "       204968.78372528,  94719.97179308, 133330.98706782, 155461.87874674,\n",
       "       193456.49776388, 167603.62087124, 157844.86916612, 183430.57608611,\n",
       "       349381.62959703, 213383.97331181, 157346.63905192, 108557.65061707,\n",
       "       153505.86782843, 295209.45161411, 103634.80974015, 292465.31526524,\n",
       "       245936.05884561, 259085.57962389, 127375.46900817, 122021.78381084,\n",
       "       204594.38789588, 137278.18420899, 123821.03956056, 116718.19214244,\n",
       "       203748.52088596, 113035.59335369, 253618.22928373, 114446.08614218,\n",
       "       249419.45167941, 378348.3906025 , 110371.14114864, 150685.92049846,\n",
       "       141810.32236346, 112080.47883321, 346554.569594  , 116752.83816166,\n",
       "       197932.30773673, 118520.76270058, 140872.24255914, 213129.99271397,\n",
       "       145737.41468766, 203100.31975264, 159106.79417008, 358961.43646927,\n",
       "       211355.72032813, 349211.2273434 ])"
      ]
     },
     "execution_count": 41,
     "metadata": {},
     "output_type": "execute_result"
    }
   ],
   "source": [
    "y_pred_meta_test"
   ]
  },
  {
   "cell_type": "code",
   "execution_count": 42,
   "metadata": {},
   "outputs": [
    {
     "data": {
      "text/plain": [
       "<matplotlib.axes._subplots.AxesSubplot at 0x1efe1a5e188>"
      ]
     },
     "execution_count": 42,
     "metadata": {},
     "output_type": "execute_result"
    },
    {
     "data": {
      "image/png": "[encoded data removed]",
      "text/plain": [
       "<Figure size 432x288 with 1 Axes>"
      ]
     },
     "metadata": {
      "needs_background": "light"
     },
     "output_type": "display_data"
    }
   ],
   "source": [
    "#Посмотрим на коэффициенты объединяющей линейной модели\n",
    "pd.Series(model_lr_meta.coef_.flatten(), index=X_meta_train.columns).plot(kind='barh')"
   ]
  },
  {
   "cell_type": "markdown",
   "metadata": {},
   "source": [
    "XGBoost важнее всех!"
   ]
  },
  {
   "cell_type": "code",
   "execution_count": null,
   "metadata": {},
   "outputs": [],
   "source": []
  }
 ],
 "metadata": {
  "kernelspec": {
   "display_name": "Python 3",
   "language": "python",
   "name": "python3"
  },
  "language_info": {
   "codemirror_mode": {
    "name": "ipython",
    "version": 3
   },
   "file_extension": ".py",
   "mimetype": "text/x-python",
   "name": "python",
   "nbconvert_exporter": "python",
   "pygments_lexer": "ipython3",
   "version": "3.7.6"
  }
 },
 "nbformat": 4,
 "nbformat_minor": 4
}
