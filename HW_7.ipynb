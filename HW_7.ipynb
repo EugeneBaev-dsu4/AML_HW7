{
 "cells": [
  {
   "cell_type": "code",
   "execution_count": 1,
   "metadata": {},
   "outputs": [],
   "source": [
    "import matplotlib.pyplot as plt\n",
    "import pandas as pd\n",
    "import numpy as np\n",
    "from sklearn.metrics import auc, roc_curve, roc_auc_score\n",
    "from sklearn.ensemble import RandomForestClassifier\n",
    "from sklearn.ensemble import RandomForestRegressor\n",
    "from sklearn.model_selection import train_test_split, cross_val_score"
   ]
  },
  {
   "cell_type": "code",
   "execution_count": 2,
   "metadata": {},
   "outputs": [
    {
     "name": "stdout",
     "output_type": "stream",
     "text": [
      "<class 'pandas.core.frame.DataFrame'>\n",
      "RangeIndex: 1460 entries, 0 to 1459\n",
      "Data columns (total 81 columns):\n",
      " #   Column         Non-Null Count  Dtype  \n",
      "---  ------         --------------  -----  \n",
      " 0   Id             1460 non-null   int64  \n",
      " 1   MSSubClass     1460 non-null   int64  \n",
      " 2   MSZoning       1460 non-null   object \n",
      " 3   LotFrontage    1201 non-null   float64\n",
      " 4   LotArea        1460 non-null   int64  \n",
      " 5   Street         1460 non-null   object \n",
      " 6   Alley          91 non-null     object \n",
      " 7   LotShape       1460 non-null   object \n",
      " 8   LandContour    1460 non-null   object \n",
      " 9   Utilities      1460 non-null   object \n",
      " 10  LotConfig      1460 non-null   object \n",
      " 11  LandSlope      1460 non-null   object \n",
      " 12  Neighborhood   1460 non-null   object \n",
      " 13  Condition1     1460 non-null   object \n",
      " 14  Condition2     1460 non-null   object \n",
      " 15  BldgType       1460 non-null   object \n",
      " 16  HouseStyle     1460 non-null   object \n",
      " 17  OverallQual    1460 non-null   int64  \n",
      " 18  OverallCond    1460 non-null   int64  \n",
      " 19  YearBuilt      1460 non-null   int64  \n",
      " 20  YearRemodAdd   1460 non-null   int64  \n",
      " 21  RoofStyle      1460 non-null   object \n",
      " 22  RoofMatl       1460 non-null   object \n",
      " 23  Exterior1st    1460 non-null   object \n",
      " 24  Exterior2nd    1460 non-null   object \n",
      " 25  MasVnrType     1452 non-null   object \n",
      " 26  MasVnrArea     1452 non-null   float64\n",
      " 27  ExterQual      1460 non-null   object \n",
      " 28  ExterCond      1460 non-null   object \n",
      " 29  Foundation     1460 non-null   object \n",
      " 30  BsmtQual       1423 non-null   object \n",
      " 31  BsmtCond       1423 non-null   object \n",
      " 32  BsmtExposure   1422 non-null   object \n",
      " 33  BsmtFinType1   1423 non-null   object \n",
      " 34  BsmtFinSF1     1460 non-null   int64  \n",
      " 35  BsmtFinType2   1422 non-null   object \n",
      " 36  BsmtFinSF2     1460 non-null   int64  \n",
      " 37  BsmtUnfSF      1460 non-null   int64  \n",
      " 38  TotalBsmtSF    1460 non-null   int64  \n",
      " 39  Heating        1460 non-null   object \n",
      " 40  HeatingQC      1460 non-null   object \n",
      " 41  CentralAir     1460 non-null   object \n",
      " 42  Electrical     1459 non-null   object \n",
      " 43  1stFlrSF       1460 non-null   int64  \n",
      " 44  2ndFlrSF       1460 non-null   int64  \n",
      " 45  LowQualFinSF   1460 non-null   int64  \n",
      " 46  GrLivArea      1460 non-null   int64  \n",
      " 47  BsmtFullBath   1460 non-null   int64  \n",
      " 48  BsmtHalfBath   1460 non-null   int64  \n",
      " 49  FullBath       1460 non-null   int64  \n",
      " 50  HalfBath       1460 non-null   int64  \n",
      " 51  BedroomAbvGr   1460 non-null   int64  \n",
      " 52  KitchenAbvGr   1460 non-null   int64  \n",
      " 53  KitchenQual    1460 non-null   object \n",
      " 54  TotRmsAbvGrd   1460 non-null   int64  \n",
      " 55  Functional     1460 non-null   object \n",
      " 56  Fireplaces     1460 non-null   int64  \n",
      " 57  FireplaceQu    770 non-null    object \n",
      " 58  GarageType     1379 non-null   object \n",
      " 59  GarageYrBlt    1379 non-null   float64\n",
      " 60  GarageFinish   1379 non-null   object \n",
      " 61  GarageCars     1460 non-null   int64  \n",
      " 62  GarageArea     1460 non-null   int64  \n",
      " 63  GarageQual     1379 non-null   object \n",
      " 64  GarageCond     1379 non-null   object \n",
      " 65  PavedDrive     1460 non-null   object \n",
      " 66  WoodDeckSF     1460 non-null   int64  \n",
      " 67  OpenPorchSF    1460 non-null   int64  \n",
      " 68  EnclosedPorch  1460 non-null   int64  \n",
      " 69  3SsnPorch      1460 non-null   int64  \n",
      " 70  ScreenPorch    1460 non-null   int64  \n",
      " 71  PoolArea       1460 non-null   int64  \n",
      " 72  PoolQC         7 non-null      object \n",
      " 73  Fence          281 non-null    object \n",
      " 74  MiscFeature    54 non-null     object \n",
      " 75  MiscVal        1460 non-null   int64  \n",
      " 76  MoSold         1460 non-null   int64  \n",
      " 77  YrSold         1460 non-null   int64  \n",
      " 78  SaleType       1460 non-null   object \n",
      " 79  SaleCondition  1460 non-null   object \n",
      " 80  SalePrice      1460 non-null   int64  \n",
      "dtypes: float64(3), int64(35), object(43)\n",
      "memory usage: 924.0+ KB\n"
     ]
    }
   ],
   "source": [
    "df = pd.read_csv('train.csv')\n",
    "df.info()"
   ]
  },
  {
   "cell_type": "code",
   "execution_count": 3,
   "metadata": {},
   "outputs": [],
   "source": [
    "#Находим категориальные признаки\n",
    "cat_feats = list(df.dtypes[df.dtypes == object].index)"
   ]
  },
  {
   "cell_type": "code",
   "execution_count": 4,
   "metadata": {},
   "outputs": [],
   "source": [
    "#выберем непрерывные признаки\n",
    "num_feats = [f for f in df if f not in (cat_feats + ['ID', 'SalePrice'])]"
   ]
  },
  {
   "cell_type": "code",
   "execution_count": 5,
   "metadata": {},
   "outputs": [],
   "source": [
    "# заполним пропущенные значений строкой, факт пропущенного значения тоже может нести в себе информацию\n",
    "df[cat_feats] = df[cat_feats].fillna('nan')"
   ]
  },
  {
   "cell_type": "code",
   "execution_count": 6,
   "metadata": {},
   "outputs": [],
   "source": [
    "# Заменяем пропуски на медиану\n",
    "df_median = df[num_feats].median()"
   ]
  },
  {
   "cell_type": "code",
   "execution_count": 7,
   "metadata": {},
   "outputs": [],
   "source": [
    "# Создаем дамми-переменные для категорий\n",
    "dummy_feats = pd.get_dummies(df[cat_feats], columns=cat_feats)"
   ]
  },
  {
   "cell_type": "code",
   "execution_count": 8,
   "metadata": {},
   "outputs": [],
   "source": [
    "X = pd.concat([df[num_feats].fillna(df_median),\n",
    "                     df[num_feats + cat_feats].isnull().astype(np.int8).add_suffix('_NaN'), dummy_feats], axis=1)"
   ]
  },
  {
   "cell_type": "code",
   "execution_count": 9,
   "metadata": {},
   "outputs": [],
   "source": [
    "y = df['SalePrice']"
   ]
  },
  {
   "cell_type": "code",
   "execution_count": 10,
   "metadata": {},
   "outputs": [],
   "source": [
    "X_train, X_test, y_train, y_test = train_test_split(X, y, test_size=0.3, random_state=0)"
   ]
  },
  {
   "cell_type": "code",
   "execution_count": 11,
   "metadata": {},
   "outputs": [
    {
     "data": {
      "text/plain": [
       "RandomForestRegressor(bootstrap=True, ccp_alpha=0.0, criterion='mse',\n",
       "                      max_depth=20, max_features=0.8, max_leaf_nodes=None,\n",
       "                      max_samples=None, min_impurity_decrease=0.0,\n",
       "                      min_impurity_split=None, min_samples_leaf=20,\n",
       "                      min_samples_split=2, min_weight_fraction_leaf=0.0,\n",
       "                      n_estimators=100, n_jobs=-1, oob_score=False,\n",
       "                      random_state=0, verbose=0, warm_start=False)"
      ]
     },
     "execution_count": 11,
     "metadata": {},
     "output_type": "execute_result"
    }
   ],
   "source": [
    "# построим случайный лес\n",
    "model_rf = RandomForestRegressor(n_estimators=100, max_depth=20, min_samples_leaf=20, max_features=0.8, n_jobs=-1, bootstrap=True, random_state=0)\n",
    "model_rf.fit(X_train, y_train)"
   ]
  },
  {
   "cell_type": "code",
   "execution_count": 12,
   "metadata": {},
   "outputs": [
    {
     "name": "stdout",
     "output_type": "stream",
     "text": [
      "MSE = 1903135901.5031285\n"
     ]
    }
   ],
   "source": [
    "# посмотрим на результат\n",
    "print(f\"MSE = {np.mean(-cross_val_score(model_rf,X_test,y_test,cv=7,scoring='neg_mean_squared_error'))}\")"
   ]
  },
  {
   "cell_type": "code",
   "execution_count": 13,
   "metadata": {},
   "outputs": [
    {
     "data": {
      "image/png": "[encoded data removed]",
      "text/plain": [
       "<Figure size 432x288 with 1 Axes>"
      ]
     },
     "metadata": {
      "needs_background": "light"
     },
     "output_type": "display_data"
    }
   ],
   "source": [
    "# Важность признаков\n",
    "features = X_train.columns\n",
    "imp = model_rf.feature_importances_[0:20]\n",
    "\n",
    "indices = np.argsort(imp)\n",
    "\n",
    "plt.title('Feature Importances')\n",
    "plt.barh(range(len(indices)), imp[indices], color='b', align='center')\n",
    "plt.yticks(range(len(indices)), [features[i] for i in indices])\n",
    "plt.xlabel('Relative Importance')\n",
    "plt.show()"
   ]
  },
  {
   "cell_type": "markdown",
   "metadata": {},
   "source": [
    "# Обучить стекинг как минимум 3х моделей, использовать хотя бы 1 линейную модель и 1 нелинейную"
   ]
  },
  {
   "cell_type": "code",
   "execution_count": 14,
   "metadata": {},
   "outputs": [
    {
     "name": "stdout",
     "output_type": "stream",
     "text": [
      "     train-rmse-mean  train-rmse-std  test-rmse-mean  test-rmse-std\n",
      "0      178438.625000      284.025039   178459.958333     382.353082\n",
      "1      162012.333333      223.262399   162207.364583      73.066575\n",
      "2      147265.187500      185.454409   147510.791667     325.210696\n",
      "3      134048.552083      132.245488   134392.755208     515.931987\n",
      "4      122219.286459      110.490482   122630.190105     839.788150\n",
      "..               ...             ...             ...            ...\n",
      "495      8979.632487      248.977566    27663.175130    4816.720168\n",
      "496      8971.712891      250.469605    27660.999349    4817.258353\n",
      "497      8964.070638      244.668931    27664.521484    4813.388758\n",
      "498      8950.655274      244.405049    27668.936198    4815.486368\n",
      "499      8937.524089      242.474607    27671.089193    4810.547571\n",
      "\n",
      "[500 rows x 4 columns]\n"
     ]
    },
    {
     "data": {
      "text/plain": [
       "XGBRegressor(base_score=0.5, booster='gbtree', colsample_bylevel=1,\n",
       "             colsample_bynode=1, colsample_bytree=1, enable_categorical=False,\n",
       "             gamma=0, gpu_id=-1, importance_type=None,\n",
       "             interaction_constraints='', learning_rate=0.1, max_delta_step=0,\n",
       "             max_depth=2, min_child_weight=1, missing=nan,\n",
       "             monotone_constraints='()', n_estimators=360, n_jobs=4,\n",
       "             num_parallel_tree=1, objective='reg:squarederror',\n",
       "             predictor='auto', random_state=0, reg_alpha=0, reg_lambda=1,\n",
       "             scale_pos_weight=1, subsample=1, tree_method='exact',\n",
       "             validate_parameters=1, verbosity=None)"
      ]
     },
     "execution_count": 14,
     "metadata": {},
     "output_type": "execute_result"
    }
   ],
   "source": [
    "# Обучим XGBoost\n",
    "import xgboost as xgb\n",
    "dtrain = xgb.DMatrix(X_train, label = y_train)\n",
    "dtest = xgb.DMatrix(X_test)\n",
    "\n",
    "params = {\"max_depth\":2, \"eta\":0.1}\n",
    "model = xgb.cv(params, dtrain,  num_boost_round=500, early_stopping_rounds=100)\n",
    "print(model)\n",
    "model_xgb = xgb.XGBRegressor(n_estimators=360, max_depth=2, learning_rate=0.1) #the params were tuned using xgb.cv\n",
    "model_xgb.fit(X_train, y_train)"
   ]
  },
  {
   "cell_type": "code",
   "execution_count": 22,
   "metadata": {},
   "outputs": [
    {
     "name": "stdout",
     "output_type": "stream",
     "text": [
      "MSE = 1885617168.3957822\n"
     ]
    }
   ],
   "source": [
    "print(f\"MSE = {np.mean(-cross_val_score(model_xgb,X_test,y_test,cv=7,scoring='neg_mean_squared_error'))}\")"
   ]
  },
  {
   "cell_type": "code",
   "execution_count": 16,
   "metadata": {},
   "outputs": [],
   "source": [
    "# Обучим линейную регрессию\n",
    "from sklearn.preprocessing import StandardScaler"
   ]
  },
  {
   "cell_type": "code",
   "execution_count": 17,
   "metadata": {},
   "outputs": [],
   "source": [
    "X_train_lin = X_train.copy()\n",
    "X_test_lin = X_test.copy()"
   ]
  },
  {
   "cell_type": "code",
   "execution_count": 18,
   "metadata": {},
   "outputs": [
    {
     "data": {
      "text/plain": [
       "StandardScaler(copy=True, with_mean=True, with_std=True)"
      ]
     },
     "execution_count": 18,
     "metadata": {},
     "output_type": "execute_result"
    }
   ],
   "source": [
    "scaler = StandardScaler()\n",
    "scaler.fit(X_train_lin[num_feats])"
   ]
  },
  {
   "cell_type": "code",
   "execution_count": 19,
   "metadata": {},
   "outputs": [],
   "source": [
    "X_train_lin[num_feats] = scaler.transform(X_train_lin[num_feats])\n",
    "X_test_lin[num_feats] = scaler.transform(X_test_lin[num_feats])"
   ]
  },
  {
   "cell_type": "code",
   "execution_count": 20,
   "metadata": {},
   "outputs": [
    {
     "data": {
      "text/plain": [
       "LinearRegression(copy_X=True, fit_intercept=True, n_jobs=None, normalize=False)"
      ]
     },
     "execution_count": 20,
     "metadata": {},
     "output_type": "execute_result"
    }
   ],
   "source": [
    "from sklearn.linear_model import LinearRegression\n",
    "model_lr = LinearRegression()\n",
    "model_lr.fit(X_train_lin, y_train)"
   ]
  },
  {
   "cell_type": "code",
   "execution_count": 21,
   "metadata": {},
   "outputs": [
    {
     "name": "stdout",
     "output_type": "stream",
     "text": [
      "MSE = 3972597310.938859\n"
     ]
    }
   ],
   "source": [
    "print(f\"MSE = {np.mean(-cross_val_score(model_lr,X_test,y_test,cv=7,scoring='neg_mean_squared_error'))}\")"
   ]
  },
  {
   "cell_type": "markdown",
   "metadata": {},
   "source": [
    "# Стекинг"
   ]
  },
  {
   "cell_type": "code",
   "execution_count": 23,
   "metadata": {},
   "outputs": [],
   "source": [
    "# Смешаем дерево, линейную регрессию и XGBoost"
   ]
  },
  {
   "cell_type": "code",
   "execution_count": 24,
   "metadata": {},
   "outputs": [
    {
     "data": {
      "text/plain": [
       "pandas.core.series.Series"
      ]
     },
     "execution_count": 24,
     "metadata": {},
     "output_type": "execute_result"
    }
   ],
   "source": [
    "type(y_test)"
   ]
  },
  {
   "cell_type": "code",
   "execution_count": 25,
   "metadata": {},
   "outputs": [],
   "source": [
    "def get_meta_features(clf, X_train, y_train, X_test, stack_cv):\n",
    "    meta_train = np.zeros_like(y_train, dtype=float)\n",
    "    meta_test = np.zeros_like(y_test, dtype=float)\n",
    "    \n",
    "    for i, (train_ind, test_ind) in enumerate(stack_cv.split(X_train, y_train)):\n",
    "        \n",
    "        clf.fit(X_train.iloc[train_ind], y_train.iloc[train_ind])\n",
    "        meta_train[test_ind] = clf.predict(X_train.iloc[test_ind])\n",
    "        meta_test += clf.predict(X_test)\n",
    "    \n",
    "    return meta_train, meta_test / stack_cv.n_splits"
   ]
  },
  {
   "cell_type": "code",
   "execution_count": 26,
   "metadata": {},
   "outputs": [
    {
     "name": "stderr",
     "output_type": "stream",
     "text": [
      "C:\\Users\\BEU_RU1\\Anaconda3\\lib\\site-packages\\sklearn\\model_selection\\_split.py:296: FutureWarning: Setting a random_state has no effect since shuffle is False. This will raise an error in 0.24. You should leave random_state to its default (None), or set shuffle=True.\n",
      "  FutureWarning\n"
     ]
    },
    {
     "name": "stdout",
     "output_type": "stream",
     "text": [
      "LR features...\n",
      "RF features...\n",
      "XGB features...\n"
     ]
    }
   ],
   "source": [
    "from sklearn.model_selection import KFold\n",
    "\n",
    "stack_cv = KFold(n_splits=7, random_state=0)\n",
    "\n",
    "meta_train = []\n",
    "meta_test = []\n",
    "col_names = []\n",
    "\n",
    "print('LR features...')\n",
    "meta_tr, meta_te = get_meta_features(model_lr, X_train_lin, y_train, X_test_lin, stack_cv)\n",
    "\n",
    "meta_train.append(meta_tr)\n",
    "meta_test.append(meta_te)\n",
    "col_names.append('lr_pred')\n",
    "\n",
    "print('RF features...')\n",
    "meta_tr, meta_te = get_meta_features(model_rf, X_train, y_train, X_test, stack_cv)\n",
    "\n",
    "meta_train.append(meta_tr)\n",
    "meta_test.append(meta_te)\n",
    "col_names.append('rf_pred')\n",
    "\n",
    "print('XGB features...')\n",
    "meta_tr, meta_te = get_meta_features(model_xgb, X_train, y_train, X_test, stack_cv)\n",
    "\n",
    "meta_train.append(meta_tr)\n",
    "meta_test.append(meta_te)\n",
    "col_names.append('xgb_pred')"
   ]
  },
  {
   "cell_type": "code",
   "execution_count": 27,
   "metadata": {},
   "outputs": [],
   "source": [
    "# Стэкинг мета-признаков с помощью LR\n",
    "X_meta_train = pd.DataFrame(np.stack(meta_train, axis=1), columns=col_names)\n",
    "X_meta_test = pd.DataFrame(np.stack(meta_test, axis=1), columns=col_names)"
   ]
  },
  {
   "cell_type": "code",
   "execution_count": 28,
   "metadata": {},
   "outputs": [
    {
     "data": {
      "text/plain": [
       "LinearRegression(copy_X=True, fit_intercept=True, n_jobs=-1, normalize=False)"
      ]
     },
     "execution_count": 28,
     "metadata": {},
     "output_type": "execute_result"
    }
   ],
   "source": [
    "model_lr_meta = LinearRegression(n_jobs=-1)\n",
    "model_lr_meta.fit(X_meta_train, y_train)"
   ]
  },
  {
   "cell_type": "code",
   "execution_count": 30,
   "metadata": {},
   "outputs": [
    {
     "name": "stdout",
     "output_type": "stream",
     "text": [
      "MSE = 7.40385544995128e-21\n"
     ]
    }
   ],
   "source": [
    "y_pred_meta_test = model_lr_meta.predict(X_meta_test)\n",
    "print(f\"MSE = {np.mean(-cross_val_score(model_lr,X_meta_test,y_pred_meta_test,cv=7,scoring='neg_mean_squared_error'))}\")"
   ]
  },
  {
   "cell_type": "markdown",
   "metadata": {},
   "source": [
    "В результате, использование ансамблей моделей действительно улучшает качество."
   ]
  },
  {
   "cell_type": "code",
   "execution_count": 31,
   "metadata": {},
   "outputs": [
    {
     "data": {
      "text/plain": [
       "array([231201.21420795, 150397.22526507, 111094.41537085, 221834.79223699,\n",
       "        89898.92100621,  88555.34886883, 268202.27725015, 123024.4943072 ,\n",
       "       411316.48070553, 161144.18693182, 196763.58916858, 138087.87554964,\n",
       "       228942.90263044, 130392.04386687, 120305.92025507, 146647.11776588,\n",
       "       230729.49518481, 125385.36306969, 134686.65655984, 191616.27462315,\n",
       "       120666.6868917 , 150893.24294212, 107417.16343653, 160100.02183166,\n",
       "       182555.98204493, 196589.08262274, 165327.44472147,  82258.67778942,\n",
       "       337798.86192623, 112473.72885855, 137607.4904219 , 201117.13453653,\n",
       "       149967.32299007, 304218.77223994, 362098.87173318, 194932.5857652 ,\n",
       "       288834.14604253, 117007.27869263, 229038.48133249, 320383.48416659,\n",
       "       204888.67281645, 119089.28640556, 189700.59050397, 311210.50882939,\n",
       "       355357.12399274, 130322.61972366, 115403.05460323, 126363.78258948,\n",
       "       168923.41085959,  96171.32015659, 404917.29275367, 144584.87185299,\n",
       "       157675.42058533,  93847.25607931, 234370.80464521, 111963.81466228,\n",
       "       125866.39441071, 239369.95069207, 133170.96368032,  91329.90017379,\n",
       "       142667.47411215, 125230.51986408, 136519.76635695, 166057.62396921,\n",
       "       208991.49859833, 163215.48288175, 139777.78426645, 228300.68490827,\n",
       "       132288.71149015, 195926.55146652, 187038.35551889, 116884.8295077 ,\n",
       "        70520.92302891, 235222.25890339,  85628.84184362, 259864.3909585 ,\n",
       "       126732.00249925,  91581.40173046, 274355.72989119, 154665.42692047,\n",
       "       124535.59891622, 131426.53268742, 131161.70020871, 139095.75293019,\n",
       "       227349.99309119, 191734.39740387, 105210.65438463, 186878.49700119,\n",
       "       169374.11629152, 136579.0923218 , 183070.13714067, 186007.25474183,\n",
       "       188233.07206287, 221128.94724496, 199547.4467936 , 143929.40372836,\n",
       "       201435.32326229, 173405.73273958, 118701.81567893, 145225.9646544 ,\n",
       "       242005.45771621, 208454.6958806 , 117888.61868817, 154606.29719276,\n",
       "       112166.43229793, 280290.49668472, 149207.6290616 ,  90903.71053162,\n",
       "       168513.36380339, 117883.76156475, 109630.08014152, 120718.56093128,\n",
       "       197703.48704155, 125983.26455443, 173339.90005587, 155090.53386623,\n",
       "       442842.44922837, 124086.47878154, 195278.53302741, 273994.24917183,\n",
       "       166977.92622651, 160625.34927718, 126076.43519304, 200388.8537805 ,\n",
       "       225904.04822387, 235272.81744031, 400069.42264896, 202307.5081837 ,\n",
       "       193530.09996728, 165244.51313575, 221032.18023679, 194697.38259552,\n",
       "       147523.27966322, 180477.32643724,  99257.78256917, 215987.65370566,\n",
       "       144465.22669664, 182264.91636764, 110068.94138116, 170488.51898042,\n",
       "       178229.67324216, 129262.95819151, 214487.90587286, 140939.6331621 ,\n",
       "       141787.63240756, 183372.27442943, 232257.87791998, 143181.32198748,\n",
       "       290457.28576631, 243629.50561547, 162352.36432211, 371486.0820104 ,\n",
       "       285806.85894033, 176314.73539241, 193302.0789018 , 263032.8654814 ,\n",
       "       129334.88474262, 207310.06797276, 127000.72691789, 169514.30207625,\n",
       "       122178.5895107 , 139662.5889946 , 190182.40190066, 118639.19403791,\n",
       "       246689.28553016, 118034.54180985, 156329.273017  , 278107.63556545,\n",
       "       199266.66938283, 166800.7239644 , 172219.88407975, 160493.58319042,\n",
       "       174588.39139831, 164764.7366966 , 120656.37377558, 113200.54646469,\n",
       "       131633.18141312, 235702.85354159, 111072.92165723, 142072.44384449,\n",
       "       294427.86413096, 201684.62740636, 104788.81554298, 306379.07223306,\n",
       "       118045.35557   , 169124.8002136 ,  96996.76239629, 193992.13469675,\n",
       "       200116.6446242 , 142236.61270753, 139754.63576012, 153724.83157377,\n",
       "       199705.89026647, 137830.63391711, 119861.23013418, 141101.03853337,\n",
       "        85017.27333034, 133096.27134995, 167406.15324735, 112903.97082454,\n",
       "       117245.04609699, 212750.02186066, 114509.54072346, 113143.93451374,\n",
       "       144444.56115238, 191197.42139606, 148498.68403068, 333998.95895994,\n",
       "       286557.32266682,  64759.89860872, 146544.86738954, 256650.60288074,\n",
       "        84914.16906401,  99469.43676314, 392118.83709128, 196352.0161852 ,\n",
       "       187214.39809819, 269580.09391539, 256649.28811229,  89891.00370349,\n",
       "       206507.95718604, 147667.93570649, 133784.95275002, 122095.57999338,\n",
       "       193740.25267225, 261355.33928337, 256279.72370601, 208697.76143405,\n",
       "       137245.65338446, 160034.73310768,  80845.86822852, 151869.66613241,\n",
       "       108542.35509984, 140333.54013224, 226244.7567544 , 126058.13921641,\n",
       "       123466.61043199, 115625.49823992,  81117.96698905, 189578.8970241 ,\n",
       "       110653.94630339, 181304.37185027, 212839.25426721, 205735.43694239,\n",
       "       170430.29295006, 190624.95479594, 212249.64701345, 190870.81581246,\n",
       "       142434.75644819, 198784.44392486, 186393.50100919, 281363.96450361,\n",
       "        89996.22903256, 423545.3220353 , 247514.33374259, 228219.36634919,\n",
       "       101416.26157281, 212855.79813329, 418685.37515151, 352656.86819074,\n",
       "       206683.21899982, 121659.06343395, 129714.75499489, 100584.36590888,\n",
       "       422521.28530181, 345028.7587312 , 379548.21581388,  60590.70133484,\n",
       "       231917.47174354, 265540.99376252, 123492.63862259, 240410.11725981,\n",
       "       134723.90793182, 185825.53651162, 142396.26279424, 228484.09595446,\n",
       "       229386.67808121, 201592.61108216, 216933.3976442 , 101009.89830052,\n",
       "       134997.37105578, 399435.10129443, 167348.741008  , 139326.09154089,\n",
       "       192995.46958152, 162574.53731745, 112315.97661005, 297412.90001134,\n",
       "       451511.1685312 , 162556.36206422,  87725.54254776,  88751.5997546 ,\n",
       "       321137.71771265,  92259.9473588 , 156944.84283181, 295962.12872713,\n",
       "       238043.88840945, 186730.29642569, 139445.39422886, 166381.63270528,\n",
       "       101922.04042289, 129976.9065399 , 185941.55582546, 168696.35816545,\n",
       "       164481.41388872, 148362.64017174, 144822.51565002, 193574.39488539,\n",
       "       181493.34997911, 180932.81578669, 108302.86720057, 168647.50757191,\n",
       "       136485.09646296, 113221.51118314, 118602.11105904, 144585.94799619,\n",
       "       306473.70641128, 123275.01370312, 181345.8644657 , 163415.57300066,\n",
       "       113760.17916793, 266471.76218479, 111627.02351233, 242438.89317384,\n",
       "       148249.74212088, 237014.51715966, 123352.72549731, 364567.60713457,\n",
       "       211299.19045568, 144443.67326266, 112918.73796529, 235510.2830628 ,\n",
       "       172981.00032556, 191880.29750358, 161760.43961339, 158757.96933037,\n",
       "       136579.59199657, 203003.41272455, 143386.84218932, 122784.44267738,\n",
       "       341529.28013127, 160841.60464831, 153871.34543677, 214379.7020065 ,\n",
       "       168615.16509215, 137124.01798079, 118580.59955455,  95548.5378405 ,\n",
       "        99993.49255894, 136876.49963779, 209057.5711656 , 345529.7002921 ,\n",
       "       114864.87513899, 103769.10804857, 161361.57378022, 434824.28394657,\n",
       "       309791.47276172, 150591.11147204, 285976.2163753 , 245640.83992081,\n",
       "       330577.29629526, 197503.25352717, 232348.62441837, 248611.56700313,\n",
       "        97970.85788979, 107933.42556889, 171633.08489458, 131496.18949591,\n",
       "       175706.10242998, 173154.52377512, 423265.66430851,  86785.5717521 ,\n",
       "       136446.17120941, 125098.2183152 , 147713.22131795,  56950.99260459,\n",
       "       202738.08292016, 299949.23322327, 115572.62919061, 253526.5143265 ,\n",
       "       166014.00342582, 101914.83601213, 133947.07043751, 122300.39136906,\n",
       "       126723.86864844,  87968.53303827, 143025.69649438, 190086.049928  ,\n",
       "       226568.14943719, 384147.59573565, 101393.49093282, 113871.6024084 ,\n",
       "       203012.4156578 ,  94643.83300625, 133406.63767033, 155429.38321009,\n",
       "       193114.71361248, 168491.83700431, 159494.35449424, 182945.74795652,\n",
       "       346899.41136172, 210070.03646703, 157911.75220563, 109496.58276506,\n",
       "       154714.09540669, 294356.38063196, 101786.0304326 , 293795.82850926,\n",
       "       246598.73828618, 260974.63115673, 127594.73949081, 121965.12536702,\n",
       "       203245.42177361, 137542.6972689 , 123491.51981442, 116279.54339925,\n",
       "       203271.35275706, 114676.8768191 , 255953.40253715, 115216.73999493,\n",
       "       249053.02474897, 379168.91463653, 111338.42577485, 150411.16778892,\n",
       "       141913.96321543, 112972.39066279, 344351.2807156 , 115249.4035264 ,\n",
       "       199998.0459191 , 119213.49933413, 140777.82394369, 210593.35876961,\n",
       "       145705.38628901, 199577.95436418, 160369.58235443, 358305.36673119,\n",
       "       210627.78041206, 364414.62576525])"
      ]
     },
     "execution_count": 31,
     "metadata": {},
     "output_type": "execute_result"
    }
   ],
   "source": [
    "y_pred_meta_test"
   ]
  },
  {
   "cell_type": "code",
   "execution_count": 32,
   "metadata": {},
   "outputs": [
    {
     "data": {
      "text/plain": [
       "<matplotlib.axes._subplots.AxesSubplot at 0x1efe2771648>"
      ]
     },
     "execution_count": 32,
     "metadata": {},
     "output_type": "execute_result"
    },
    {
     "data": {
      "image/png": "[encoded data removed]",
      "text/plain": [
       "<Figure size 432x288 with 1 Axes>"
      ]
     },
     "metadata": {
      "needs_background": "light"
     },
     "output_type": "display_data"
    }
   ],
   "source": [
    "#Посмотрим на коэффициенты объединяющей линейной модели\n",
    "pd.Series(model_lr_meta.coef_.flatten(), index=X_meta_train.columns).plot(kind='barh')"
   ]
  },
  {
   "cell_type": "markdown",
   "metadata": {},
   "source": [
    "XGBoost важнее всех!"
   ]
  },
  {
   "cell_type": "code",
   "execution_count": null,
   "metadata": {},
   "outputs": [],
   "source": []
  }
 ],
 "metadata": {
  "kernelspec": {
   "display_name": "Python 3",
   "language": "python",
   "name": "python3"
  },
  "language_info": {
   "codemirror_mode": {
    "name": "ipython",
    "version": 3
   },
   "file_extension": ".py",
   "mimetype": "text/x-python",
   "name": "python",
   "nbconvert_exporter": "python",
   "pygments_lexer": "ipython3",
   "version": "3.7.6"
  }
 },
 "nbformat": 4,
 "nbformat_minor": 4
}
